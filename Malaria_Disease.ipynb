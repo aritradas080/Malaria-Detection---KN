{
  "nbformat": 4,
  "nbformat_minor": 0,
  "metadata": {
    "colab": {
      "provenance": [],
      "toc_visible": true
    },
    "kernelspec": {
      "name": "python3",
      "display_name": "Python 3"
    },
    "language_info": {
      "name": "python"
    }
  },
  "cells": [
    {
      "cell_type": "code",
      "source": [
        "# import the libraries as shown below\n",
        "from tensorflow.keras.layers import Input, Lambda, Dense, Flatten, Conv2D\n",
        "from tensorflow.keras.models import Model\n",
        "from tensorflow.keras.applications.vgg19 import VGG19\n",
        "from tensorflow.keras.applications.resnet50 import preprocess_input\n",
        "from tensorflow.keras.preprocessing import image\n",
        "from tensorflow.keras.preprocessing.image import ImageDataGenerator, load_img\n",
        "from tensorflow.keras.models import Sequential\n",
        "import numpy as np\n",
        "from glob import glob\n",
        "import os\n",
        "import matplotlib.pyplot as plt"
      ],
      "metadata": {
        "id": "zTDz-2QzPlUQ"
      },
      "execution_count": null,
      "outputs": []
    },
    {
      "cell_type": "code",
      "source": [
        "import tensorflow as tf\n",
        "print(tf.__version__)"
      ],
      "metadata": {
        "colab": {
          "base_uri": "https://localhost:8080/"
        },
        "id": "4z16g674REe_",
        "outputId": "69f4cee1-52a6-47eb-a802-1cfc56b89f12"
      },
      "execution_count": null,
      "outputs": [
        {
          "output_type": "stream",
          "name": "stdout",
          "text": [
            "2.15.0\n"
          ]
        }
      ]
    },
    {
      "cell_type": "code",
      "source": [
        "!git clone https://github.com/aritradas080/Malaria-Detection---KN.git\n",
        "%cd Malaria-Detection---KN/Dataset\n",
        "from google.colab import drive\n",
        "drive.mount('/content/drive', force_remount=True)"
      ],
      "metadata": {
        "colab": {
          "base_uri": "https://localhost:8080/"
        },
        "id": "x6zS5NZAuMAh",
        "outputId": "505260f2-abb9-4141-f2fe-d9e0c50b9372"
      },
      "execution_count": null,
      "outputs": [
        {
          "output_type": "stream",
          "name": "stdout",
          "text": [
            "Cloning into 'Malaria-Detection---KN'...\n",
            "remote: Enumerating objects: 537, done.\u001b[K\n",
            "remote: Counting objects: 100% (537/537), done.\u001b[K\n",
            "remote: Compressing objects: 100% (536/536), done.\u001b[K\n",
            "remote: Total 537 (delta 0), reused 537 (delta 0), pack-reused 0\u001b[K\n",
            "Receiving objects: 100% (537/537), 5.83 MiB | 28.99 MiB/s, done.\n",
            "/content/Malaria-Detection---KN/Dataset\n",
            "Mounted at /content/drive\n"
          ]
        }
      ]
    },
    {
      "cell_type": "code",
      "source": [
        "#resizing of images\n",
        "IMAGE_SIZE = [224, 224]\n",
        "\n",
        "train_path = '/content/Malaria-Detection---KN/Dataset/Train';\n",
        "test_path = '/content/Malaria-Detection---KN/Dataset/Test';\n",
        "\n",
        "print(train_path)\n",
        "print(test_path )"
      ],
      "metadata": {
        "colab": {
          "base_uri": "https://localhost:8080/"
        },
        "id": "e3q8gXF9WhGA",
        "outputId": "a601b842-f6b7-4ad6-a629-0203140d8292"
      },
      "execution_count": null,
      "outputs": [
        {
          "output_type": "stream",
          "name": "stdout",
          "text": [
            "/content/Malaria-Detection---KN/Dataset/Train\n",
            "/content/Malaria-Detection---KN/Dataset/Test\n"
          ]
        }
      ]
    },
    {
      "cell_type": "code",
      "source": [
        "vgg19 = VGG19(input_shape=IMAGE_SIZE + [3], weights='imagenet', include_top=False)"
      ],
      "metadata": {
        "id": "Q1DCrmqTZ2M1",
        "colab": {
          "base_uri": "https://localhost:8080/"
        },
        "outputId": "7a84769b-b760-460e-b778-887ca82b80d3"
      },
      "execution_count": null,
      "outputs": [
        {
          "output_type": "stream",
          "name": "stdout",
          "text": [
            "Downloading data from https://storage.googleapis.com/tensorflow/keras-applications/vgg19/vgg19_weights_tf_dim_ordering_tf_kernels_notop.h5\n",
            "80134624/80134624 [==============================] - 1s 0us/step\n"
          ]
        }
      ]
    },
    {
      "cell_type": "code",
      "source": [
        "vgg19.summary()"
      ],
      "metadata": {
        "colab": {
          "base_uri": "https://localhost:8080/"
        },
        "id": "STzb6YE0cCL2",
        "outputId": "28e88415-223f-4c4c-a5af-d70da7786f6b"
      },
      "execution_count": null,
      "outputs": [
        {
          "output_type": "stream",
          "name": "stdout",
          "text": [
            "Model: \"vgg19\"\n",
            "_________________________________________________________________\n",
            " Layer (type)                Output Shape              Param #   \n",
            "=================================================================\n",
            " input_1 (InputLayer)        [(None, 224, 224, 3)]     0         \n",
            "                                                                 \n",
            " block1_conv1 (Conv2D)       (None, 224, 224, 64)      1792      \n",
            "                                                                 \n",
            " block1_conv2 (Conv2D)       (None, 224, 224, 64)      36928     \n",
            "                                                                 \n",
            " block1_pool (MaxPooling2D)  (None, 112, 112, 64)      0         \n",
            "                                                                 \n",
            " block2_conv1 (Conv2D)       (None, 112, 112, 128)     73856     \n",
            "                                                                 \n",
            " block2_conv2 (Conv2D)       (None, 112, 112, 128)     147584    \n",
            "                                                                 \n",
            " block2_pool (MaxPooling2D)  (None, 56, 56, 128)       0         \n",
            "                                                                 \n",
            " block3_conv1 (Conv2D)       (None, 56, 56, 256)       295168    \n",
            "                                                                 \n",
            " block3_conv2 (Conv2D)       (None, 56, 56, 256)       590080    \n",
            "                                                                 \n",
            " block3_conv3 (Conv2D)       (None, 56, 56, 256)       590080    \n",
            "                                                                 \n",
            " block3_conv4 (Conv2D)       (None, 56, 56, 256)       590080    \n",
            "                                                                 \n",
            " block3_pool (MaxPooling2D)  (None, 28, 28, 256)       0         \n",
            "                                                                 \n",
            " block4_conv1 (Conv2D)       (None, 28, 28, 512)       1180160   \n",
            "                                                                 \n",
            " block4_conv2 (Conv2D)       (None, 28, 28, 512)       2359808   \n",
            "                                                                 \n",
            " block4_conv3 (Conv2D)       (None, 28, 28, 512)       2359808   \n",
            "                                                                 \n",
            " block4_conv4 (Conv2D)       (None, 28, 28, 512)       2359808   \n",
            "                                                                 \n",
            " block4_pool (MaxPooling2D)  (None, 14, 14, 512)       0         \n",
            "                                                                 \n",
            " block5_conv1 (Conv2D)       (None, 14, 14, 512)       2359808   \n",
            "                                                                 \n",
            " block5_conv2 (Conv2D)       (None, 14, 14, 512)       2359808   \n",
            "                                                                 \n",
            " block5_conv3 (Conv2D)       (None, 14, 14, 512)       2359808   \n",
            "                                                                 \n",
            " block5_conv4 (Conv2D)       (None, 14, 14, 512)       2359808   \n",
            "                                                                 \n",
            " block5_pool (MaxPooling2D)  (None, 7, 7, 512)         0         \n",
            "                                                                 \n",
            "=================================================================\n",
            "Total params: 20024384 (76.39 MB)\n",
            "Trainable params: 20024384 (76.39 MB)\n",
            "Non-trainable params: 0 (0.00 Byte)\n",
            "_________________________________________________________________\n"
          ]
        }
      ]
    },
    {
      "cell_type": "code",
      "source": [
        "# don't train existing weights\n",
        "for layer in vgg19.layers:\n",
        "  layer.trainable = False;"
      ],
      "metadata": {
        "id": "VvUt2uFrcH1k"
      },
      "execution_count": null,
      "outputs": []
    },
    {
      "cell_type": "code",
      "source": [
        "print(os.listdir(train_path))"
      ],
      "metadata": {
        "colab": {
          "base_uri": "https://localhost:8080/"
        },
        "id": "16Boh44vghRR",
        "outputId": "a3328f2a-98a4-4d73-dd5e-6034de6cd382"
      },
      "execution_count": null,
      "outputs": [
        {
          "output_type": "stream",
          "name": "stdout",
          "text": [
            "['Parasite', 'Uninfected']\n"
          ]
        }
      ]
    },
    {
      "cell_type": "code",
      "source": [
        "# useful for getting number of output classes\n",
        "folders = glob('/content/Malaria-Detection---KN/Dataset/Train/*')"
      ],
      "metadata": {
        "id": "N97Vb9fUdLsP"
      },
      "execution_count": null,
      "outputs": []
    },
    {
      "cell_type": "code",
      "source": [
        "print(folders)"
      ],
      "metadata": {
        "colab": {
          "base_uri": "https://localhost:8080/"
        },
        "id": "HgKrZuBKdaML",
        "outputId": "988cfa28-3a93-497d-a74c-eca6b3204973"
      },
      "execution_count": null,
      "outputs": [
        {
          "output_type": "stream",
          "name": "stdout",
          "text": [
            "['/content/Malaria-Detection---KN/Dataset/Train/Parasite', '/content/Malaria-Detection---KN/Dataset/Train/Uninfected']\n"
          ]
        }
      ]
    },
    {
      "cell_type": "code",
      "source": [
        "# our layers - you can add more if you want\n",
        "x = Flatten()(vgg19.output)"
      ],
      "metadata": {
        "id": "GwuDsjONfTzm"
      },
      "execution_count": null,
      "outputs": []
    },
    {
      "cell_type": "code",
      "source": [
        "prediction = Dense(len(folders), activation='softmax')(x)\n",
        "\n",
        "# create a model object\n",
        "model = Model(inputs=vgg19.input, outputs=prediction)"
      ],
      "metadata": {
        "id": "3je17Bj_fhzF"
      },
      "execution_count": null,
      "outputs": []
    },
    {
      "cell_type": "code",
      "source": [
        "model.summary()"
      ],
      "metadata": {
        "colab": {
          "base_uri": "https://localhost:8080/"
        },
        "id": "dkwZDxrZfp2k",
        "outputId": "b13a6a36-c669-4206-bcfc-fde37acab31d"
      },
      "execution_count": null,
      "outputs": [
        {
          "output_type": "stream",
          "name": "stdout",
          "text": [
            "Model: \"model\"\n",
            "_________________________________________________________________\n",
            " Layer (type)                Output Shape              Param #   \n",
            "=================================================================\n",
            " input_1 (InputLayer)        [(None, 224, 224, 3)]     0         \n",
            "                                                                 \n",
            " block1_conv1 (Conv2D)       (None, 224, 224, 64)      1792      \n",
            "                                                                 \n",
            " block1_conv2 (Conv2D)       (None, 224, 224, 64)      36928     \n",
            "                                                                 \n",
            " block1_pool (MaxPooling2D)  (None, 112, 112, 64)      0         \n",
            "                                                                 \n",
            " block2_conv1 (Conv2D)       (None, 112, 112, 128)     73856     \n",
            "                                                                 \n",
            " block2_conv2 (Conv2D)       (None, 112, 112, 128)     147584    \n",
            "                                                                 \n",
            " block2_pool (MaxPooling2D)  (None, 56, 56, 128)       0         \n",
            "                                                                 \n",
            " block3_conv1 (Conv2D)       (None, 56, 56, 256)       295168    \n",
            "                                                                 \n",
            " block3_conv2 (Conv2D)       (None, 56, 56, 256)       590080    \n",
            "                                                                 \n",
            " block3_conv3 (Conv2D)       (None, 56, 56, 256)       590080    \n",
            "                                                                 \n",
            " block3_conv4 (Conv2D)       (None, 56, 56, 256)       590080    \n",
            "                                                                 \n",
            " block3_pool (MaxPooling2D)  (None, 28, 28, 256)       0         \n",
            "                                                                 \n",
            " block4_conv1 (Conv2D)       (None, 28, 28, 512)       1180160   \n",
            "                                                                 \n",
            " block4_conv2 (Conv2D)       (None, 28, 28, 512)       2359808   \n",
            "                                                                 \n",
            " block4_conv3 (Conv2D)       (None, 28, 28, 512)       2359808   \n",
            "                                                                 \n",
            " block4_conv4 (Conv2D)       (None, 28, 28, 512)       2359808   \n",
            "                                                                 \n",
            " block4_pool (MaxPooling2D)  (None, 14, 14, 512)       0         \n",
            "                                                                 \n",
            " block5_conv1 (Conv2D)       (None, 14, 14, 512)       2359808   \n",
            "                                                                 \n",
            " block5_conv2 (Conv2D)       (None, 14, 14, 512)       2359808   \n",
            "                                                                 \n",
            " block5_conv3 (Conv2D)       (None, 14, 14, 512)       2359808   \n",
            "                                                                 \n",
            " block5_conv4 (Conv2D)       (None, 14, 14, 512)       2359808   \n",
            "                                                                 \n",
            " block5_pool (MaxPooling2D)  (None, 7, 7, 512)         0         \n",
            "                                                                 \n",
            " flatten (Flatten)           (None, 25088)             0         \n",
            "                                                                 \n",
            " dense (Dense)               (None, 2)                 50178     \n",
            "                                                                 \n",
            "=================================================================\n",
            "Total params: 20074562 (76.58 MB)\n",
            "Trainable params: 50178 (196.01 KB)\n",
            "Non-trainable params: 20024384 (76.39 MB)\n",
            "_________________________________________________________________\n"
          ]
        }
      ]
    },
    {
      "cell_type": "code",
      "source": [
        "# tell the model what cost and optimization method to use\n",
        "model.compile(\n",
        "  loss='categorical_crossentropy',\n",
        "  optimizer='adam',\n",
        "  metrics=['accuracy']\n",
        ")"
      ],
      "metadata": {
        "id": "cvqZ3o0_ruxJ"
      },
      "execution_count": null,
      "outputs": []
    },
    {
      "cell_type": "code",
      "source": [
        "train_datagen = ImageDataGenerator(rescale = 1./255,\n",
        "                                   shear_range = 0.2,\n",
        "                                   zoom_range = 0.2,\n",
        "                                   horizontal_flip = True)\n",
        "\n",
        "test_datagen = ImageDataGenerator(rescale = 1./255)"
      ],
      "metadata": {
        "id": "Cm4JXVrOtkrt"
      },
      "execution_count": null,
      "outputs": []
    },
    {
      "cell_type": "code",
      "source": [
        "# Make sure you provide the same target size as initialied for the image size\n",
        "training_set = train_datagen.flow_from_directory('/content/Malaria-Detection---KN/Dataset/Train',\n",
        "                                                 target_size = (224, 224),\n",
        "                                                 batch_size = 32,\n",
        "                                                 class_mode = 'categorical')"
      ],
      "metadata": {
        "colab": {
          "base_uri": "https://localhost:8080/"
        },
        "id": "PvlJu0ZEwIwD",
        "outputId": "afaf735a-92fd-42c6-96e4-a1e920c73629"
      },
      "execution_count": null,
      "outputs": [
        {
          "output_type": "stream",
          "name": "stdout",
          "text": [
            "Found 416 images belonging to 2 classes.\n"
          ]
        }
      ]
    },
    {
      "cell_type": "code",
      "source": [
        "training_set"
      ],
      "metadata": {
        "colab": {
          "base_uri": "https://localhost:8080/"
        },
        "id": "ixql_aUhwVv7",
        "outputId": "0c5f19f0-f536-49cb-c3af-cacfa91ccda3"
      },
      "execution_count": null,
      "outputs": [
        {
          "output_type": "execute_result",
          "data": {
            "text/plain": [
              "<keras.src.preprocessing.image.DirectoryIterator at 0x7fca280b2aa0>"
            ]
          },
          "metadata": {},
          "execution_count": 17
        }
      ]
    },
    {
      "cell_type": "code",
      "source": [
        "test_set = test_datagen.flow_from_directory('/content/Malaria-Detection---KN/Dataset/Test',\n",
        "                                            target_size = (224, 224),\n",
        "                                            batch_size = 32,\n",
        "                                            class_mode = 'categorical')"
      ],
      "metadata": {
        "colab": {
          "base_uri": "https://localhost:8080/"
        },
        "id": "_JYMGIivwf25",
        "outputId": "57a4ac3e-5db6-4270-f590-f6bbb26bb4b7"
      },
      "execution_count": null,
      "outputs": [
        {
          "output_type": "stream",
          "name": "stdout",
          "text": [
            "Found 134 images belonging to 2 classes.\n"
          ]
        }
      ]
    },
    {
      "cell_type": "code",
      "source": [
        "# fit the model\n",
        "# Run the cell. It will take some time to execute\n",
        "r = model.fit_generator(\n",
        "  training_set,\n",
        "  validation_data=test_set,\n",
        "  epochs=5,\n",
        "  steps_per_epoch=len(training_set),\n",
        "  validation_steps=len(test_set)\n",
        ")"
      ],
      "metadata": {
        "colab": {
          "base_uri": "https://localhost:8080/"
        },
        "id": "dHvfWov4wf5P",
        "outputId": "6bd311ac-3601-4627-a576-e82b6b8716f3"
      },
      "execution_count": null,
      "outputs": [
        {
          "output_type": "stream",
          "name": "stderr",
          "text": [
            "<ipython-input-19-6ec5a35725ca>:3: UserWarning: `Model.fit_generator` is deprecated and will be removed in a future version. Please use `Model.fit`, which supports generators.\n",
            "  r = model.fit_generator(\n"
          ]
        },
        {
          "output_type": "stream",
          "name": "stdout",
          "text": [
            "Epoch 1/5\n",
            "13/13 [==============================] - 373s 29s/step - loss: 1.3153 - accuracy: 0.5409 - val_loss: 0.6209 - val_accuracy: 0.6642\n",
            "Epoch 2/5\n",
            "13/13 [==============================] - 367s 29s/step - loss: 0.5747 - accuracy: 0.6707 - val_loss: 0.6022 - val_accuracy: 0.6866\n",
            "Epoch 3/5\n",
            "13/13 [==============================] - 420s 33s/step - loss: 0.4385 - accuracy: 0.7837 - val_loss: 0.4975 - val_accuracy: 0.7164\n",
            "Epoch 4/5\n",
            "13/13 [==============================] - 422s 33s/step - loss: 0.3560 - accuracy: 0.8558 - val_loss: 0.5776 - val_accuracy: 0.6940\n",
            "Epoch 5/5\n",
            "13/13 [==============================] - 421s 33s/step - loss: 0.3001 - accuracy: 0.8654 - val_loss: 0.5633 - val_accuracy: 0.6791\n"
          ]
        }
      ]
    },
    {
      "cell_type": "code",
      "source": [
        "# plot the loss\n",
        "plt.plot(r.history['loss'], label='train loss')\n",
        "plt.plot(r.history['val_loss'], label='val loss')\n",
        "plt.legend()\n",
        "plt.show()\n",
        "plt.savefig('LossVal_loss')\n",
        "\n",
        "# plot the accuracy\n",
        "plt.plot(r.history['accuracy'], label='train acc')\n",
        "plt.plot(r.history['val_accuracy'], label='val acc')\n",
        "plt.legend()\n",
        "plt.show()\n",
        "plt.savefig('AccVal_acc')"
      ],
      "metadata": {
        "colab": {
          "base_uri": "https://localhost:8080/",
          "height": 860
        },
        "id": "4W63htyQwf73",
        "outputId": "42cce9f7-aad2-4dbf-88c4-ded52f665af5"
      },
      "execution_count": null,
      "outputs": [
        {
          "output_type": "display_data",
          "data": {
            "text/plain": [
              "<Figure size 640x480 with 1 Axes>"
            ],
            "image/png": "[encoded data removed]"
          },
          "metadata": {}
        },
        {
          "output_type": "display_data",
          "data": {
            "text/plain": [
              "<Figure size 640x480 with 1 Axes>"
            ],
            "image/png": "[encoded data removed]"
          },
          "metadata": {}
        },
        {
          "output_type": "display_data",
          "data": {
            "text/plain": [
              "<Figure size 640x480 with 0 Axes>"
            ]
          },
          "metadata": {}
        }
      ]
    },
    {
      "cell_type": "code",
      "source": [
        "# save it as a h5 file\n",
        "from tensorflow.keras.models import load_model\n",
        "\n",
        "model.save('model_vgg19.h5')"
      ],
      "metadata": {
        "colab": {
          "base_uri": "https://localhost:8080/"
        },
        "id": "lhHS4Lymwf-G",
        "outputId": "48b16ccc-da61-47c1-905b-21aa6d452e38"
      },
      "execution_count": null,
      "outputs": [
        {
          "output_type": "stream",
          "name": "stderr",
          "text": [
            "/usr/local/lib/python3.10/dist-packages/keras/src/engine/training.py:3103: UserWarning: You are saving your model as an HDF5 file via `model.save()`. This file format is considered legacy. We recommend using instead the native Keras format, e.g. `model.save('my_model.keras')`.\n",
            "  saving_api.save_model(\n"
          ]
        }
      ]
    },
    {
      "cell_type": "code",
      "source": [
        "y_pred = model.predict(test_set)"
      ],
      "metadata": {
        "colab": {
          "base_uri": "https://localhost:8080/"
        },
        "id": "aDDux_PHDJCX",
        "outputId": "9c7f5bb1-307e-430f-cad2-57de4d57e756"
      },
      "execution_count": null,
      "outputs": [
        {
          "output_type": "stream",
          "name": "stdout",
          "text": [
            "5/5 [==============================] - 88s 17s/step\n"
          ]
        }
      ]
    },
    {
      "cell_type": "code",
      "source": [
        "y_pred"
      ],
      "metadata": {
        "colab": {
          "base_uri": "https://localhost:8080/"
        },
        "id": "lxBV1sZnDJEj",
        "outputId": "132e23f5-9111-4b3e-9414-8032b5476268"
      },
      "execution_count": null,
      "outputs": [
        {
          "output_type": "execute_result",
          "data": {
            "text/plain": [
              "array([[9.85327840e-01, 1.46721872e-02],\n",
              "       [8.13236475e-01, 1.86763555e-01],\n",
              "       [9.76552427e-01, 2.34476086e-02],\n",
              "       [6.86126769e-01, 3.13873112e-01],\n",
              "       [9.07940269e-01, 9.20597240e-02],\n",
              "       [9.48520482e-01, 5.14794514e-02],\n",
              "       [8.85134578e-01, 1.14865385e-01],\n",
              "       [9.45562184e-01, 5.44376597e-02],\n",
              "       [7.73297668e-01, 2.26702258e-01],\n",
              "       [7.58649886e-01, 2.41350085e-01],\n",
              "       [6.61447465e-01, 3.38552505e-01],\n",
              "       [7.28934407e-01, 2.71065533e-01],\n",
              "       [8.64680290e-01, 1.35319680e-01],\n",
              "       [8.18610430e-01, 1.81389540e-01],\n",
              "       [9.73623633e-01, 2.63763387e-02],\n",
              "       [9.88289833e-01, 1.17101874e-02],\n",
              "       [7.64921308e-01, 2.35078737e-01],\n",
              "       [5.52462339e-01, 4.47537690e-01],\n",
              "       [9.17088151e-01, 8.29118043e-02],\n",
              "       [8.82305503e-01, 1.17694423e-01],\n",
              "       [9.59877729e-01, 4.01222520e-02],\n",
              "       [9.52033639e-01, 4.79663350e-02],\n",
              "       [9.96090591e-01, 3.90924141e-03],\n",
              "       [9.05366123e-01, 9.46338773e-02],\n",
              "       [9.28272784e-01, 7.17271790e-02],\n",
              "       [9.94525135e-01, 5.47496835e-03],\n",
              "       [8.48285794e-01, 1.51714116e-01],\n",
              "       [8.62858951e-01, 1.37141019e-01],\n",
              "       [9.03878033e-01, 9.61218402e-02],\n",
              "       [9.05346215e-01, 9.46536586e-02],\n",
              "       [9.17836189e-01, 8.21637884e-02],\n",
              "       [9.99811888e-01, 1.88230377e-04],\n",
              "       [6.15828276e-01, 3.84171784e-01],\n",
              "       [8.31938088e-01, 1.68061838e-01],\n",
              "       [7.12209940e-01, 2.87790000e-01],\n",
              "       [7.01367021e-01, 2.98633039e-01],\n",
              "       [9.92575884e-01, 7.42415898e-03],\n",
              "       [9.91806924e-01, 8.19299556e-03],\n",
              "       [8.91074061e-01, 1.08926006e-01],\n",
              "       [9.98394787e-01, 1.60525204e-03],\n",
              "       [7.70940602e-01, 2.29059353e-01],\n",
              "       [9.73720312e-01, 2.62797680e-02],\n",
              "       [9.06300306e-01, 9.36997086e-02],\n",
              "       [8.76748025e-01, 1.23251930e-01],\n",
              "       [9.15101290e-01, 8.48986655e-02],\n",
              "       [9.85232115e-01, 1.47678722e-02],\n",
              "       [9.80228245e-01, 1.97717249e-02],\n",
              "       [9.91491437e-01, 8.50847736e-03],\n",
              "       [9.58653808e-01, 4.13460843e-02],\n",
              "       [8.39584827e-01, 1.60415128e-01],\n",
              "       [9.93088722e-01, 6.91135880e-03],\n",
              "       [7.24045098e-01, 2.75954843e-01],\n",
              "       [9.78683949e-01, 2.13160720e-02],\n",
              "       [9.77711737e-01, 2.22882647e-02],\n",
              "       [7.59128332e-01, 2.40871549e-01],\n",
              "       [9.19401467e-01, 8.05985481e-02],\n",
              "       [8.11446071e-01, 1.88553944e-01],\n",
              "       [8.38784575e-01, 1.61215439e-01],\n",
              "       [7.57600307e-01, 2.42399678e-01],\n",
              "       [8.87379527e-01, 1.12620495e-01],\n",
              "       [7.54539371e-01, 2.45460585e-01],\n",
              "       [9.94942546e-01, 5.05749788e-03],\n",
              "       [9.89906013e-01, 1.00939926e-02],\n",
              "       [9.95959282e-01, 4.04080376e-03],\n",
              "       [9.25032735e-01, 7.49673396e-02],\n",
              "       [8.98942649e-01, 1.01057321e-01],\n",
              "       [7.40281522e-01, 2.59718567e-01],\n",
              "       [7.80793488e-01, 2.19206542e-01],\n",
              "       [8.96434546e-01, 1.03565447e-01],\n",
              "       [9.97562349e-01, 2.43762415e-03],\n",
              "       [9.87250626e-01, 1.27494140e-02],\n",
              "       [9.83286619e-01, 1.67133920e-02],\n",
              "       [8.60960603e-01, 1.39039412e-01],\n",
              "       [6.79150403e-01, 3.20849568e-01],\n",
              "       [9.99232292e-01, 7.67675985e-04],\n",
              "       [9.37116563e-01, 6.28834814e-02],\n",
              "       [9.74328637e-01, 2.56713703e-02],\n",
              "       [9.79270339e-01, 2.07296442e-02],\n",
              "       [9.97461855e-01, 2.53821351e-03],\n",
              "       [9.43607330e-01, 5.63926995e-02],\n",
              "       [9.99464393e-01, 5.35736734e-04],\n",
              "       [8.45306396e-01, 1.54693618e-01],\n",
              "       [7.16508985e-01, 2.83490986e-01],\n",
              "       [5.66193581e-01, 4.33806509e-01],\n",
              "       [9.92241621e-01, 7.75832962e-03],\n",
              "       [9.11665022e-01, 8.83349925e-02],\n",
              "       [9.98716772e-01, 1.28318684e-03],\n",
              "       [9.43957329e-01, 5.60426787e-02],\n",
              "       [7.20326483e-01, 2.79673427e-01],\n",
              "       [8.02882671e-01, 1.97117239e-01],\n",
              "       [7.00271964e-01, 2.99728036e-01],\n",
              "       [5.42265117e-01, 4.57734913e-01],\n",
              "       [7.78655767e-01, 2.21344292e-01],\n",
              "       [5.29204488e-01, 4.70795512e-01],\n",
              "       [6.57720447e-01, 3.42279434e-01],\n",
              "       [9.93938208e-01, 6.06179005e-03],\n",
              "       [8.88550878e-01, 1.11449167e-01],\n",
              "       [9.88176405e-01, 1.18235955e-02],\n",
              "       [8.22352290e-01, 1.77647784e-01],\n",
              "       [9.46276188e-01, 5.37237674e-02],\n",
              "       [9.93732750e-01, 6.26727100e-03],\n",
              "       [7.54841626e-01, 2.45158330e-01],\n",
              "       [9.84413981e-01, 1.55860027e-02],\n",
              "       [9.94872928e-01, 5.12711890e-03],\n",
              "       [9.59157705e-01, 4.08421718e-02],\n",
              "       [7.23505318e-01, 2.76494682e-01],\n",
              "       [9.01621878e-01, 9.83782113e-02],\n",
              "       [7.46059656e-01, 2.53940374e-01],\n",
              "       [8.34608257e-01, 1.65391818e-01],\n",
              "       [9.95520592e-01, 4.47934680e-03],\n",
              "       [9.92590547e-01, 7.40940077e-03],\n",
              "       [9.73271906e-01, 2.67279651e-02],\n",
              "       [7.91104019e-01, 2.08895922e-01],\n",
              "       [9.93082821e-01, 6.91727549e-03],\n",
              "       [8.84963453e-01, 1.15036570e-01],\n",
              "       [9.75953519e-01, 2.40463875e-02],\n",
              "       [7.86397576e-01, 2.13602513e-01],\n",
              "       [7.38537550e-01, 2.61462420e-01],\n",
              "       [9.28044379e-01, 7.19556436e-02],\n",
              "       [8.88216794e-01, 1.11783110e-01],\n",
              "       [9.96880114e-01, 3.11988080e-03],\n",
              "       [7.00586736e-01, 2.99413353e-01],\n",
              "       [8.67801368e-01, 1.32198602e-01],\n",
              "       [6.51470721e-01, 3.48529369e-01],\n",
              "       [8.86375129e-01, 1.13624819e-01],\n",
              "       [9.97692227e-01, 2.30781035e-03],\n",
              "       [9.65605021e-01, 3.43949907e-02],\n",
              "       [7.45110452e-01, 2.54889488e-01],\n",
              "       [9.82253969e-01, 1.77460648e-02],\n",
              "       [9.23156202e-01, 7.68437684e-02],\n",
              "       [9.90960300e-01, 9.03971493e-03],\n",
              "       [9.99643326e-01, 3.56713834e-04],\n",
              "       [8.99241328e-01, 1.00758672e-01],\n",
              "       [9.70859766e-01, 2.91401837e-02]], dtype=float32)"
            ]
          },
          "metadata": {},
          "execution_count": 23
        }
      ]
    },
    {
      "cell_type": "code",
      "source": [
        "import numpy as np\n",
        "y_pred = np.argmax(y_pred, axis=1)"
      ],
      "metadata": {
        "id": "JsfibzdPDJHB"
      },
      "execution_count": null,
      "outputs": []
    },
    {
      "cell_type": "code",
      "source": [
        "y_pred"
      ],
      "metadata": {
        "colab": {
          "base_uri": "https://localhost:8080/"
        },
        "id": "aPw2BKCbDJJh",
        "outputId": "f2237bad-dc2b-40d9-fa35-1a8e09184e37"
      },
      "execution_count": null,
      "outputs": [
        {
          "output_type": "execute_result",
          "data": {
            "text/plain": [
              "array([0, 0, 0, 0, 0, 0, 0, 0, 0, 0, 0, 0, 0, 0, 0, 0, 0, 0, 0, 0, 0, 0,\n",
              "       0, 0, 0, 0, 0, 0, 0, 0, 0, 0, 0, 0, 0, 0, 0, 0, 0, 0, 0, 0, 0, 0,\n",
              "       0, 0, 0, 0, 0, 0, 0, 0, 0, 0, 0, 0, 0, 0, 0, 0, 0, 0, 0, 0, 0, 0,\n",
              "       0, 0, 0, 0, 0, 0, 0, 0, 0, 0, 0, 0, 0, 0, 0, 0, 0, 0, 0, 0, 0, 0,\n",
              "       0, 0, 0, 0, 0, 0, 0, 0, 0, 0, 0, 0, 0, 0, 0, 0, 0, 0, 0, 0, 0, 0,\n",
              "       0, 0, 0, 0, 0, 0, 0, 0, 0, 0, 0, 0, 0, 0, 0, 0, 0, 0, 0, 0, 0, 0,\n",
              "       0, 0])"
            ]
          },
          "metadata": {},
          "execution_count": 25
        }
      ]
    },
    {
      "cell_type": "code",
      "source": [
        "from tensorflow.keras.models import load_model\n",
        "from tensorflow.keras.preprocessing import image"
      ],
      "metadata": {
        "id": "BpGpQMCUDJLp"
      },
      "execution_count": null,
      "outputs": []
    },
    {
      "cell_type": "code",
      "source": [
        "model=load_model('model_vgg19.h5')"
      ],
      "metadata": {
        "id": "6_8L6a3mDJOM"
      },
      "execution_count": null,
      "outputs": []
    },
    {
      "cell_type": "code",
      "source": [
        "img=image.load_img('/content/Malaria-Detection---KN/Dataset/Test/Uninfected/2.png',target_size=(224,224))"
      ],
      "metadata": {
        "id": "r0hzN4tyOmW_"
      },
      "execution_count": null,
      "outputs": []
    },
    {
      "cell_type": "code",
      "source": [
        "x=image.img_to_array(img)\n",
        "x"
      ],
      "metadata": {
        "colab": {
          "base_uri": "https://localhost:8080/"
        },
        "id": "fMAazpd9Omsu",
        "outputId": "e770742b-62b9-442d-e87b-ab8546e48fdf"
      },
      "execution_count": null,
      "outputs": [
        {
          "output_type": "execute_result",
          "data": {
            "text/plain": [
              "array([[[0., 0., 0.],\n",
              "        [0., 0., 0.],\n",
              "        [0., 0., 0.],\n",
              "        ...,\n",
              "        [0., 0., 0.],\n",
              "        [0., 0., 0.],\n",
              "        [0., 0., 0.]],\n",
              "\n",
              "       [[0., 0., 0.],\n",
              "        [0., 0., 0.],\n",
              "        [0., 0., 0.],\n",
              "        ...,\n",
              "        [0., 0., 0.],\n",
              "        [0., 0., 0.],\n",
              "        [0., 0., 0.]],\n",
              "\n",
              "       [[0., 0., 0.],\n",
              "        [0., 0., 0.],\n",
              "        [0., 0., 0.],\n",
              "        ...,\n",
              "        [0., 0., 0.],\n",
              "        [0., 0., 0.],\n",
              "        [0., 0., 0.]],\n",
              "\n",
              "       ...,\n",
              "\n",
              "       [[0., 0., 0.],\n",
              "        [0., 0., 0.],\n",
              "        [0., 0., 0.],\n",
              "        ...,\n",
              "        [0., 0., 0.],\n",
              "        [0., 0., 0.],\n",
              "        [0., 0., 0.]],\n",
              "\n",
              "       [[0., 0., 0.],\n",
              "        [0., 0., 0.],\n",
              "        [0., 0., 0.],\n",
              "        ...,\n",
              "        [0., 0., 0.],\n",
              "        [0., 0., 0.],\n",
              "        [0., 0., 0.]],\n",
              "\n",
              "       [[0., 0., 0.],\n",
              "        [0., 0., 0.],\n",
              "        [0., 0., 0.],\n",
              "        ...,\n",
              "        [0., 0., 0.],\n",
              "        [0., 0., 0.],\n",
              "        [0., 0., 0.]]], dtype=float32)"
            ]
          },
          "metadata": {},
          "execution_count": 29
        }
      ]
    },
    {
      "cell_type": "code",
      "source": [
        "x.shape"
      ],
      "metadata": {
        "colab": {
          "base_uri": "https://localhost:8080/"
        },
        "id": "Iq-OZv9XOuE4",
        "outputId": "e47f89d3-c61c-44d6-8323-5ec7a8eec730"
      },
      "execution_count": null,
      "outputs": [
        {
          "output_type": "execute_result",
          "data": {
            "text/plain": [
              "(224, 224, 3)"
            ]
          },
          "metadata": {},
          "execution_count": 30
        }
      ]
    },
    {
      "cell_type": "code",
      "source": [
        "x=x/255"
      ],
      "metadata": {
        "id": "Mw5LzcsrPDkQ"
      },
      "execution_count": null,
      "outputs": []
    },
    {
      "cell_type": "code",
      "source": [
        "x=np.expand_dims(x,axis=0)\n",
        "img_data=preprocess_input(x)\n",
        "img_data.shape"
      ],
      "metadata": {
        "colab": {
          "base_uri": "https://localhost:8080/"
        },
        "id": "9ZD9y4uUPDmU",
        "outputId": "291445b8-ca2c-41ac-b827-9a8e21ed516b"
      },
      "execution_count": null,
      "outputs": [
        {
          "output_type": "execute_result",
          "data": {
            "text/plain": [
              "(1, 224, 224, 3)"
            ]
          },
          "metadata": {},
          "execution_count": 32
        }
      ]
    },
    {
      "cell_type": "code",
      "source": [
        "model.predict(img_data)"
      ],
      "metadata": {
        "colab": {
          "base_uri": "https://localhost:8080/"
        },
        "id": "_3U9enMCPDoj",
        "outputId": "88e2aff9-e03b-4821-a7f1-5c7f4af62bcd"
      },
      "execution_count": null,
      "outputs": [
        {
          "output_type": "stream",
          "name": "stdout",
          "text": [
            "1/1 [==============================] - 1s 761ms/step\n"
          ]
        },
        {
          "output_type": "execute_result",
          "data": {
            "text/plain": [
              "array([[0.00167505, 0.99832493]], dtype=float32)"
            ]
          },
          "metadata": {},
          "execution_count": 33
        }
      ]
    },
    {
      "cell_type": "code",
      "source": [
        "a=np.argmax(model.predict(img_data), axis=1)"
      ],
      "metadata": {
        "colab": {
          "base_uri": "https://localhost:8080/"
        },
        "id": "0SHTC1cBPDqt",
        "outputId": "e9e70777-a6d4-48f5-e37f-2e359ef7aea2"
      },
      "execution_count": null,
      "outputs": [
        {
          "output_type": "stream",
          "name": "stdout",
          "text": [
            "1/1 [==============================] - 1s 606ms/step\n"
          ]
        }
      ]
    },
    {
      "cell_type": "code",
      "source": [
        "if(a==1):\n",
        "    print(\"Uninfected\")\n",
        "else:\n",
        "    print(\"Infected\")"
      ],
      "metadata": {
        "colab": {
          "base_uri": "https://localhost:8080/"
        },
        "id": "xCL8eWbaPDtT",
        "outputId": "3f9769e6-db64-4108-b00b-ff06254a27e1"
      },
      "execution_count": null,
      "outputs": [
        {
          "output_type": "stream",
          "name": "stdout",
          "text": [
            "Uninfected\n"
          ]
        }
      ]
    },
    {
      "cell_type": "code",
      "source": [],
      "metadata": {
        "id": "HTkbT68-PDv0"
      },
      "execution_count": null,
      "outputs": []
    }
  ]
}